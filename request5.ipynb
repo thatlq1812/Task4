{
 "cells": [
  {
   "cell_type": "code",
   "execution_count": null,
   "metadata": {},
   "outputs": [],
   "source": [
    "!docker ps\n",
    "# Note: Must run triton_server and triton_client before running this script ------ Read 6. Request 5 - Perf Analyzer"
   ]
  },
  {
   "cell_type": "code",
   "execution_count": 23,
   "metadata": {},
   "outputs": [
    {
     "name": "stdout",
     "output_type": "stream",
     "text": [
      "*** Measurement Settings ***\n",
      "  Batch size: 1\n",
      "  Service Kind: TRITON\n",
      "  Using \"time_windows\" mode for stabilization\n",
      "  Stabilizing using average latency and throughput\n",
      "  Measurement window: 5000 msec\n",
      "  Using synchronous calls for inference\n",
      "\n",
      "Request concurrency: 1\n",
      "  Client: \n",
      "    Request count: 1034\n",
      "    Throughput: 56.4706 infer/sec\n",
      "    Avg latency: 17371 usec (standard deviation 4644 usec)\n",
      "    p50 latency: 15843 usec\n",
      "    p90 latency: 21716 usec\n",
      "    p95 latency: 22716 usec\n",
      "    p99 latency: 46165 usec\n",
      "    Avg HTTP time: 17354 usec (send/recv 270 usec + response wait 17084 usec)\n",
      "  Server: \n",
      "    Inference count: 1034\n",
      "    Execution count: 1034\n",
      "    Successful request count: 1034\n",
      "    Avg request latency: 16282 usec (overhead 49 usec + queue 52 usec + compute input 109 usec + compute infer 16044 usec + compute output 27 usec)\n",
      "\n",
      "Inferences/Second vs. Client Average Batch Latency\n",
      "Concurrency: 1, throughput: 56.4706 infer/sec, latency 17371 usec\n"
     ]
    }
   ],
   "source": [
    "!docker exec triton_client perf_analyzer -m densenet_onnx -u localhost:8000\n"
   ]
  }
 ],
 "metadata": {
  "kernelspec": {
   "display_name": "Python 3",
   "language": "python",
   "name": "python3"
  },
  "language_info": {
   "codemirror_mode": {
    "name": "ipython",
    "version": 3
   },
   "file_extension": ".py",
   "mimetype": "text/x-python",
   "name": "python",
   "nbconvert_exporter": "python",
   "pygments_lexer": "ipython3",
   "version": "3.12.9"
  }
 },
 "nbformat": 4,
 "nbformat_minor": 2
}
